{
 "cells": [
  {
   "cell_type": "code",
   "execution_count": 1,
   "metadata": {},
   "outputs": [
    {
     "data": {
      "text/plain": [
       "2206"
      ]
     },
     "execution_count": 1,
     "metadata": {},
     "output_type": "execute_result"
    }
   ],
   "source": [
    "import fun\n",
    "import pandas as pd\n",
    "df = pd.read_csv('tweets.csv', lineterminator=\"\\n\")\n",
    "allowed_sources = [\"Twitter Web App\", \"Twitter for iPhone\", \"Twitter for Android\"]\n",
    "df_filtered = df[df['Source of Tweet'].isin(allowed_sources)]\n",
    "df_filtered.head(30)\n",
    "len(df_filtered)\n"
   ]
  },
  {
   "cell_type": "code",
   "execution_count": null,
   "metadata": {},
   "outputs": [
    {
     "ename": "KeyboardInterrupt",
     "evalue": "",
     "output_type": "error",
     "traceback": [
      "\u001b[0;31m---------------------------------------------------------------------------\u001b[0m",
      "\u001b[0;31mKeyboardInterrupt\u001b[0m                         Traceback (most recent call last)",
      "Cell \u001b[0;32mIn[1], line 1\u001b[0m\n\u001b[0;32m----> 1\u001b[0m \u001b[39mfrom\u001b[39;00m \u001b[39mnltk\u001b[39;00m\u001b[39m.\u001b[39;00m\u001b[39msentiment\u001b[39;00m \u001b[39mimport\u001b[39;00m SentimentIntensityAnalyzer\n\u001b[1;32m      2\u001b[0m \u001b[39mfrom\u001b[39;00m \u001b[39msklearn\u001b[39;00m\u001b[39m.\u001b[39;00m\u001b[39mpreprocessing\u001b[39;00m \u001b[39mimport\u001b[39;00m RobustScaler, MinMaxScaler\n\u001b[1;32m      3\u001b[0m \u001b[39mimport\u001b[39;00m \u001b[39mpandas\u001b[39;00m \u001b[39mas\u001b[39;00m \u001b[39mpd\u001b[39;00m\n",
      "File \u001b[0;32m/opt/homebrew/lib/python3.11/site-packages/nltk/__init__.py:146\u001b[0m\n\u001b[1;32m    140\u001b[0m \u001b[39mfrom\u001b[39;00m \u001b[39mnltk\u001b[39;00m\u001b[39m.\u001b[39;00m\u001b[39mjsontags\u001b[39;00m \u001b[39mimport\u001b[39;00m \u001b[39m*\u001b[39m\n\u001b[1;32m    142\u001b[0m \u001b[39m###########################################################\u001b[39;00m\n\u001b[1;32m    143\u001b[0m \u001b[39m# PACKAGES\u001b[39;00m\n\u001b[1;32m    144\u001b[0m \u001b[39m###########################################################\u001b[39;00m\n\u001b[0;32m--> 146\u001b[0m \u001b[39mfrom\u001b[39;00m \u001b[39mnltk\u001b[39;00m\u001b[39m.\u001b[39;00m\u001b[39mchunk\u001b[39;00m \u001b[39mimport\u001b[39;00m \u001b[39m*\u001b[39m\n\u001b[1;32m    147\u001b[0m \u001b[39mfrom\u001b[39;00m \u001b[39mnltk\u001b[39;00m\u001b[39m.\u001b[39;00m\u001b[39mclassify\u001b[39;00m \u001b[39mimport\u001b[39;00m \u001b[39m*\u001b[39m\n\u001b[1;32m    148\u001b[0m \u001b[39mfrom\u001b[39;00m \u001b[39mnltk\u001b[39;00m\u001b[39m.\u001b[39;00m\u001b[39minference\u001b[39;00m \u001b[39mimport\u001b[39;00m \u001b[39m*\u001b[39m\n",
      "File \u001b[0;32m/opt/homebrew/lib/python3.11/site-packages/nltk/chunk/__init__.py:155\u001b[0m\n\u001b[1;32m      1\u001b[0m \u001b[39m# Natural Language Toolkit: Chunkers\u001b[39;00m\n\u001b[1;32m      2\u001b[0m \u001b[39m#\u001b[39;00m\n\u001b[1;32m      3\u001b[0m \u001b[39m# Copyright (C) 2001-2023 NLTK Project\u001b[39;00m\n\u001b[0;32m   (...)\u001b[0m\n\u001b[1;32m      7\u001b[0m \u001b[39m# For license information, see LICENSE.TXT\u001b[39;00m\n\u001b[1;32m      8\u001b[0m \u001b[39m#\u001b[39;00m\n\u001b[1;32m     10\u001b[0m \u001b[39m\"\"\"\u001b[39;00m\n\u001b[1;32m     11\u001b[0m \u001b[39mClasses and interfaces for identifying non-overlapping linguistic\u001b[39;00m\n\u001b[1;32m     12\u001b[0m \u001b[39mgroups (such as base noun phrases) in unrestricted text.  This task is\u001b[39;00m\n\u001b[0;32m   (...)\u001b[0m\n\u001b[1;32m    152\u001b[0m \u001b[39m     pattern is valid.\u001b[39;00m\n\u001b[1;32m    153\u001b[0m \u001b[39m\"\"\"\u001b[39;00m\n\u001b[0;32m--> 155\u001b[0m \u001b[39mfrom\u001b[39;00m \u001b[39mnltk\u001b[39;00m\u001b[39m.\u001b[39;00m\u001b[39mchunk\u001b[39;00m\u001b[39m.\u001b[39;00m\u001b[39mapi\u001b[39;00m \u001b[39mimport\u001b[39;00m ChunkParserI\n\u001b[1;32m    156\u001b[0m \u001b[39mfrom\u001b[39;00m \u001b[39mnltk\u001b[39;00m\u001b[39m.\u001b[39;00m\u001b[39mchunk\u001b[39;00m\u001b[39m.\u001b[39;00m\u001b[39mregexp\u001b[39;00m \u001b[39mimport\u001b[39;00m RegexpChunkParser, RegexpParser\n\u001b[1;32m    157\u001b[0m \u001b[39mfrom\u001b[39;00m \u001b[39mnltk\u001b[39;00m\u001b[39m.\u001b[39;00m\u001b[39mchunk\u001b[39;00m\u001b[39m.\u001b[39;00m\u001b[39mutil\u001b[39;00m \u001b[39mimport\u001b[39;00m (\n\u001b[1;32m    158\u001b[0m     ChunkScore,\n\u001b[1;32m    159\u001b[0m     accuracy,\n\u001b[0;32m   (...)\u001b[0m\n\u001b[1;32m    165\u001b[0m     tree2conlltags,\n\u001b[1;32m    166\u001b[0m )\n",
      "File \u001b[0;32m/opt/homebrew/lib/python3.11/site-packages/nltk/chunk/api.py:15\u001b[0m\n\u001b[1;32m     13\u001b[0m \u001b[39mfrom\u001b[39;00m \u001b[39mnltk\u001b[39;00m\u001b[39m.\u001b[39;00m\u001b[39mchunk\u001b[39;00m\u001b[39m.\u001b[39;00m\u001b[39mutil\u001b[39;00m \u001b[39mimport\u001b[39;00m ChunkScore\n\u001b[1;32m     14\u001b[0m \u001b[39mfrom\u001b[39;00m \u001b[39mnltk\u001b[39;00m\u001b[39m.\u001b[39;00m\u001b[39minternals\u001b[39;00m \u001b[39mimport\u001b[39;00m deprecated\n\u001b[0;32m---> 15\u001b[0m \u001b[39mfrom\u001b[39;00m \u001b[39mnltk\u001b[39;00m\u001b[39m.\u001b[39;00m\u001b[39mparse\u001b[39;00m \u001b[39mimport\u001b[39;00m ParserI\n\u001b[1;32m     18\u001b[0m \u001b[39mclass\u001b[39;00m \u001b[39mChunkParserI\u001b[39;00m(ParserI):\n\u001b[1;32m     19\u001b[0m \u001b[39m    \u001b[39m\u001b[39m\"\"\"\u001b[39;00m\n\u001b[1;32m     20\u001b[0m \u001b[39m    A processing interface for identifying non-overlapping groups in\u001b[39;00m\n\u001b[1;32m     21\u001b[0m \u001b[39m    unrestricted text.  Typically, chunk parsers are used to find base\u001b[39;00m\n\u001b[0;32m   (...)\u001b[0m\n\u001b[1;32m     24\u001b[0m \u001b[39m    will always generate a parse.\u001b[39;00m\n\u001b[1;32m     25\u001b[0m \u001b[39m    \"\"\"\u001b[39;00m\n",
      "File \u001b[0;32m/opt/homebrew/lib/python3.11/site-packages/nltk/parse/__init__.py:100\u001b[0m\n\u001b[1;32m     95\u001b[0m \u001b[39mfrom\u001b[39;00m \u001b[39mnltk\u001b[39;00m\u001b[39m.\u001b[39;00m\u001b[39mparse\u001b[39;00m\u001b[39m.\u001b[39;00m\u001b[39mrecursivedescent\u001b[39;00m \u001b[39mimport\u001b[39;00m (\n\u001b[1;32m     96\u001b[0m     RecursiveDescentParser,\n\u001b[1;32m     97\u001b[0m     SteppingRecursiveDescentParser,\n\u001b[1;32m     98\u001b[0m )\n\u001b[1;32m     99\u001b[0m \u001b[39mfrom\u001b[39;00m \u001b[39mnltk\u001b[39;00m\u001b[39m.\u001b[39;00m\u001b[39mparse\u001b[39;00m\u001b[39m.\u001b[39;00m\u001b[39mshiftreduce\u001b[39;00m \u001b[39mimport\u001b[39;00m ShiftReduceParser, SteppingShiftReduceParser\n\u001b[0;32m--> 100\u001b[0m \u001b[39mfrom\u001b[39;00m \u001b[39mnltk\u001b[39;00m\u001b[39m.\u001b[39;00m\u001b[39mparse\u001b[39;00m\u001b[39m.\u001b[39;00m\u001b[39mtransitionparser\u001b[39;00m \u001b[39mimport\u001b[39;00m TransitionParser\n\u001b[1;32m    101\u001b[0m \u001b[39mfrom\u001b[39;00m \u001b[39mnltk\u001b[39;00m\u001b[39m.\u001b[39;00m\u001b[39mparse\u001b[39;00m\u001b[39m.\u001b[39;00m\u001b[39mutil\u001b[39;00m \u001b[39mimport\u001b[39;00m TestGrammar, extract_test_sentences, load_parser\n\u001b[1;32m    102\u001b[0m \u001b[39mfrom\u001b[39;00m \u001b[39mnltk\u001b[39;00m\u001b[39m.\u001b[39;00m\u001b[39mparse\u001b[39;00m\u001b[39m.\u001b[39;00m\u001b[39mviterbi\u001b[39;00m \u001b[39mimport\u001b[39;00m ViterbiParser\n",
      "File \u001b[0;32m/opt/homebrew/lib/python3.11/site-packages/nltk/parse/transitionparser.py:19\u001b[0m\n\u001b[1;32m     17\u001b[0m     \u001b[39mfrom\u001b[39;00m \u001b[39mscipy\u001b[39;00m \u001b[39mimport\u001b[39;00m sparse\n\u001b[1;32m     18\u001b[0m     \u001b[39mfrom\u001b[39;00m \u001b[39msklearn\u001b[39;00m \u001b[39mimport\u001b[39;00m svm\n\u001b[0;32m---> 19\u001b[0m     \u001b[39mfrom\u001b[39;00m \u001b[39msklearn\u001b[39;00m\u001b[39m.\u001b[39;00m\u001b[39mdatasets\u001b[39;00m \u001b[39mimport\u001b[39;00m load_svmlight_file\n\u001b[1;32m     20\u001b[0m \u001b[39mexcept\u001b[39;00m \u001b[39mImportError\u001b[39;00m:\n\u001b[1;32m     21\u001b[0m     \u001b[39mpass\u001b[39;00m\n",
      "File \u001b[0;32m/opt/homebrew/lib/python3.11/site-packages/sklearn/datasets/__init__.py:46\u001b[0m\n\u001b[1;32m     44\u001b[0m \u001b[39mfrom\u001b[39;00m \u001b[39m.\u001b[39;00m\u001b[39m_samples_generator\u001b[39;00m \u001b[39mimport\u001b[39;00m make_biclusters\n\u001b[1;32m     45\u001b[0m \u001b[39mfrom\u001b[39;00m \u001b[39m.\u001b[39;00m\u001b[39m_samples_generator\u001b[39;00m \u001b[39mimport\u001b[39;00m make_checkerboard\n\u001b[0;32m---> 46\u001b[0m \u001b[39mfrom\u001b[39;00m \u001b[39m.\u001b[39;00m\u001b[39m_svmlight_format_io\u001b[39;00m \u001b[39mimport\u001b[39;00m load_svmlight_file\n\u001b[1;32m     47\u001b[0m \u001b[39mfrom\u001b[39;00m \u001b[39m.\u001b[39;00m\u001b[39m_svmlight_format_io\u001b[39;00m \u001b[39mimport\u001b[39;00m load_svmlight_files\n\u001b[1;32m     48\u001b[0m \u001b[39mfrom\u001b[39;00m \u001b[39m.\u001b[39;00m\u001b[39m_svmlight_format_io\u001b[39;00m \u001b[39mimport\u001b[39;00m dump_svmlight_file\n",
      "File \u001b[0;32m/opt/homebrew/lib/python3.11/site-packages/sklearn/datasets/_svmlight_format_io.py:30\u001b[0m\n\u001b[1;32m     27\u001b[0m \u001b[39mfrom\u001b[39;00m \u001b[39m.\u001b[39;00m\u001b[39m.\u001b[39;00m\u001b[39mutils\u001b[39;00m \u001b[39mimport\u001b[39;00m check_array, IS_PYPY\n\u001b[1;32m     29\u001b[0m \u001b[39mif\u001b[39;00m \u001b[39mnot\u001b[39;00m IS_PYPY:\n\u001b[0;32m---> 30\u001b[0m     \u001b[39mfrom\u001b[39;00m \u001b[39m.\u001b[39;00m\u001b[39m_svmlight_format_fast\u001b[39;00m \u001b[39mimport\u001b[39;00m (\n\u001b[1;32m     31\u001b[0m         _load_svmlight_file,\n\u001b[1;32m     32\u001b[0m         _dump_svmlight_file,\n\u001b[1;32m     33\u001b[0m     )\n\u001b[1;32m     34\u001b[0m \u001b[39melse\u001b[39;00m:\n\u001b[1;32m     36\u001b[0m     \u001b[39mdef\u001b[39;00m \u001b[39m_load_svmlight_file\u001b[39m(\u001b[39m*\u001b[39margs, \u001b[39m*\u001b[39m\u001b[39m*\u001b[39mkwargs):\n",
      "File \u001b[0;32m<frozen importlib._bootstrap>:405\u001b[0m, in \u001b[0;36mparent\u001b[0;34m(self)\u001b[0m\n",
      "\u001b[0;31mKeyboardInterrupt\u001b[0m: "
     ]
    }
   ],
   "source": [
    "from nltk.sentiment import SentimentIntensityAnalyzer\n",
    "from sklearn.preprocessing import RobustScaler, MinMaxScaler\n",
    "import pandas as pd\n",
    "import re\n",
    "from pathlib import Path\n",
    "\n",
    "# define the directory path and pattern to match\n",
    "directory_path = Path('data_tweets')\n",
    "file_pattern = '*.csv'\n",
    "\n",
    "# use pathlib to get a list of file names that match the pattern\n",
    "file_names = [str(file_path) for file_path in directory_path.glob(file_pattern)]\n",
    "\n",
    "# print the list of file names\n",
    "print(file_names)\n",
    "\n",
    "'''\n",
    "print(len(df))\n",
    "\n",
    "for i in range(len(df)):\n",
    "  if i == 0:\n",
    "    a = eval(df.loc[i, 'Conversation'])\n",
    "    cvsn = '\\n'.join(a)\n",
    "    print(cvsn)\n",
    "    print(sia.polarity_scores(cvsn))\n",
    "    print('='*8)\n",
    "    for c in a:\n",
    "      print(c)\n",
    "      print(sia.polarity_scores(c))\n",
    "    print('='*8)\n",
    "    print('='*8)\n",
    "    print('='*8)\n",
    "    a = [re.sub(r'@(\\w+)', '', b) for b in a]\n",
    "    cvsn = '\\n'.join(a)\n",
    "    print(cvsn)\n",
    "    print(sia.polarity_scores(cvsn))\n",
    "    print('='*8)\n",
    "    for c in a:\n",
    "      print(c)\n",
    "      print(sia.polarity_scores(c))\n",
    "    \n",
    "\n",
    "  \n",
    "'''\n",
    "\n",
    "sia = SentimentIntensityAnalyzer()\n",
    "\n",
    "df = pd.read_csv('cvsn.csv', lineterminator=\"\\n\")\n",
    "df['Sentiment'] = df['Conversation'].apply(lambda x: sia.polarity_scores(re.sub(r'@(\\w+)', '', ' '.join(eval(x)))))\n",
    "df['Attention'] = df['Sentiment'].apply(lambda x: x['compound']) * df['Likes'].apply(lambda x: 1 if x == 0 else x)\n",
    "scaler = RobustScaler()\n",
    "df['Attention_Normalized'] = scaler.fit_transform(df[['Attention']])\n"
   ]
  }
 ],
 "metadata": {
  "kernelspec": {
   "display_name": "Python 3",
   "language": "python",
   "name": "python3"
  },
  "language_info": {
   "codemirror_mode": {
    "name": "ipython",
    "version": 3
   },
   "file_extension": ".py",
   "mimetype": "text/x-python",
   "name": "python",
   "nbconvert_exporter": "python",
   "pygments_lexer": "ipython3",
   "version": "3.11.2"
  },
  "orig_nbformat": 4
 },
 "nbformat": 4,
 "nbformat_minor": 2
}
